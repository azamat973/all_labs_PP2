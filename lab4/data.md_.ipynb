{
 "cells": [
  {
   "cell_type": "markdown",
   "metadata": {},
   "source": [
    "### 1) Write a Python program to subtract five days from current date."
   ]
  },
  {
   "cell_type": "code",
   "execution_count": 2,
   "metadata": {},
   "outputs": [
    {
     "name": "stdout",
     "output_type": "stream",
     "text": [
      "Today: 2025-02-18\n",
      "Date 5 days ago: 2025-02-13\n"
     ]
    }
   ],
   "source": [
    "from datetime import datetime, timedelta\n",
    "\n",
    "\n",
    "current_date = datetime.now()\n",
    "\n",
    "\n",
    "new_date = current_date - timedelta(days=5)\n",
    "\n",
    "# Print the result\n",
    "print(\"Today:\", current_date.strftime('%Y-%m-%d'))\n",
    "print(\"Date 5 days ago:\", new_date.strftime('%Y-%m-%d'))"
   ]
  },
  {
   "cell_type": "markdown",
   "metadata": {},
   "source": [
    "### 2) Write a Python program to print yesterday, today, tomorrow."
   ]
  },
  {
   "cell_type": "code",
   "execution_count": 3,
   "metadata": {},
   "outputs": [
    {
     "name": "stdout",
     "output_type": "stream",
     "text": [
      "Yesterday: 2025-02-17\n",
      "Today: 2025-02-18\n",
      "Tomorrow: 2025-02-19\n"
     ]
    }
   ],
   "source": [
    "from datetime import datetime, timedelta\n",
    "\n",
    "\n",
    "today = datetime.now()\n",
    "\n",
    "yesterday = today - timedelta(days=1)\n",
    "tomorrow = today + timedelta(days=1)\n",
    "\n",
    "print(\"Yesterday:\", yesterday.strftime('%Y-%m-%d'))\n",
    "print(\"Today:\", today.strftime('%Y-%m-%d'))\n",
    "print(\"Tomorrow:\", tomorrow.strftime('%Y-%m-%d'))\n"
   ]
  },
  {
   "cell_type": "markdown",
   "metadata": {},
   "source": [
    "### 3) Write a Python program to drop microseconds from datetime.\n",
    "\n"
   ]
  },
  {
   "cell_type": "code",
   "execution_count": null,
   "metadata": {},
   "outputs": [
    {
     "name": "stdout",
     "output_type": "stream",
     "text": [
      "Yesterday: 2025-02-17 21:30:48\n",
      "Today: 2025-02-18 21:30:48\n",
      "Tomorrow: 2025-02-19 21:30:48\n"
     ]
    }
   ],
   "source": [
    "from datetime import datetime, timedelta\n",
    "\n",
    "today = datetime.now().replace(microsecond=0)\n",
    "\n",
    "yesterday = today - timedelta(days=1)\n",
    "tomorrow = today + timedelta(days=1)\n",
    "\n",
    "print(\"Yesterday:\", yesterday.strftime('%Y-%m-%d %H:%M:%S'))\n",
    "print(\"Today:\", today.strftime('%Y-%m-%d %H:%M:%S'))\n",
    "print(\"Tomorrow:\", tomorrow.strftime('%Y-%m-%d %H:%M:%S'))\n"
   ]
  },
  {
   "cell_type": "markdown",
   "metadata": {},
   "source": [
    "### 4) Write a Python program to calculate two date difference in seconds."
   ]
  },
  {
   "cell_type": "code",
   "execution_count": 5,
   "metadata": {},
   "outputs": [
    {
     "name": "stdout",
     "output_type": "stream",
     "text": [
      "Yesterday: 2025-02-17 21:32:52\n",
      "Today: 2025-02-18 21:32:52\n",
      "Tomorrow: 2025-02-19 21:32:52\n",
      "Difference in seconds between tomorrow and yesterday: 172800.0\n"
     ]
    }
   ],
   "source": [
    "from datetime import datetime, timedelta\n",
    "\n",
    "today = datetime.now().replace(microsecond=0)\n",
    "\n",
    "yesterday = today - timedelta(days=1)\n",
    "tomorrow = today + timedelta(days=1)\n",
    "\n",
    "diff_seconds = (tomorrow - yesterday).total_seconds()\n",
    "\n",
    "print(\"Yesterday:\", yesterday.strftime('%Y-%m-%d %H:%M:%S'))\n",
    "print(\"Today:\", today.strftime('%Y-%m-%d %H:%M:%S'))\n",
    "print(\"Tomorrow:\", tomorrow.strftime('%Y-%m-%d %H:%M:%S'))\n",
    "print(\"Difference in seconds between tomorrow and yesterday:\", diff_seconds)"
   ]
  }
 ],
 "metadata": {
  "kernelspec": {
   "display_name": "Python 3",
   "language": "python",
   "name": "python3"
  },
  "language_info": {
   "codemirror_mode": {
    "name": "ipython",
    "version": 3
   },
   "file_extension": ".py",
   "mimetype": "text/x-python",
   "name": "python",
   "nbconvert_exporter": "python",
   "pygments_lexer": "ipython3",
   "version": "3.11.5"
  }
 },
 "nbformat": 4,
 "nbformat_minor": 2
}
