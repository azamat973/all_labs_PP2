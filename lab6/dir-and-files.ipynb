{
 "cells": [
  {
   "cell_type": "markdown",
   "metadata": {},
   "source": [
    "### 1)Write a Python program to list only directories, files and all directories, files in a specified path."
   ]
  },
  {
   "cell_type": "code",
   "execution_count": null,
   "metadata": {},
   "outputs": [
    {
     "name": "stdout",
     "output_type": "stream",
     "text": [
      "Listing contents of: .\n",
      "\n",
      "Directories: []\n",
      "Files: ['builtin-functions.ipynb', 'dir-and-files.ipynb']\n",
      "All Items: ['builtin-functions.ipynb', 'dir-and-files.ipynb']\n"
     ]
    }
   ],
   "source": [
    "import os\n",
    "\n",
    "def list_contents(path):\n",
    "    print(f\"Listing contents of: {path}\\n\")\n",
    "    \n",
    "    directories = [d for d in os.listdir(path) if os.path.isdir(os.path.join(path, d))]\n",
    "    print(\"Directories:\", directories)\n",
    "    \n",
    "    files = [f for f in os.listdir(path) if os.path.isfile(os.path.join(path, f))]\n",
    "    print(\"Files:\", files)\n",
    "    \n",
    "    all_items = os.listdir(path)\n",
    "    print(\"All Items:\", all_items)\n",
    "\n",
    "specified_path = \".\"  \n",
    "list_contents(specified_path)\n"
   ]
  },
  {
   "cell_type": "markdown",
   "metadata": {},
   "source": [
    "### 2)Write a Python program to check for access to a specified path. Test the existence, readability, writability and executability of the specified path"
   ]
  },
  {
   "cell_type": "code",
   "execution_count": null,
   "metadata": {},
   "outputs": [
    {
     "name": "stdout",
     "output_type": "stream",
     "text": [
      "Checking access for: example.txt\n",
      "\n",
      "Exists: False\n",
      "Readable: False\n",
      "Writable: False\n",
      "Executable: False\n"
     ]
    }
   ],
   "source": [
    "import os\n",
    "\n",
    "def check_path_access(path):\n",
    "    print(f\"Checking access for: {path}\\n\")\n",
    "    \n",
    "    exists = os.access(path, os.F_OK)\n",
    "    print(f\"Exists: {exists}\")\n",
    "    \n",
    "    readable = os.access(path, os.R_OK)\n",
    "    print(f\"Readable: {readable}\")\n",
    "    \n",
    "    writable = os.access(path, os.W_OK)\n",
    "    print(f\"Writable: {writable}\")\n",
    "    \n",
    "    executable = os.access(path, os.X_OK)\n",
    "    print(f\"Executable: {executable}\")\n",
    "\n",
    "specified_path = \"example.txt\"  \n",
    "check_path_access(specified_path)\n"
   ]
  },
  {
   "cell_type": "markdown",
   "metadata": {},
   "source": [
    "### 3)Write a Python program to test whether a given path exists or not. If the path exist find the filename and directory portion of the given path."
   ]
  },
  {
   "cell_type": "code",
   "execution_count": 4,
   "metadata": {},
   "outputs": [
    {
     "name": "stdout",
     "output_type": "stream",
     "text": [
      "The path 'dir-and-files.ipynb' exists.\n",
      "\n",
      "Directory portion: \n",
      "Filename portion: dir-and-files.ipynb\n"
     ]
    }
   ],
   "source": [
    "import os\n",
    "\n",
    "def check_path_info(path):\n",
    "    if os.path.exists(path):  \n",
    "        print(f\"The path '{path}' exists.\\n\")\n",
    "\n",
    "        directory = os.path.dirname(path)\n",
    "        print(f\"Directory portion: {directory}\")\n",
    "\n",
    "        \n",
    "        filename = os.path.basename(path)\n",
    "        print(f\"Filename portion: {filename}\")\n",
    "\n",
    "    else:\n",
    "        print(f\"The path '{path}' does not exist.\")\n",
    "\n",
    "\n",
    "specified_path = \"dir-and-files.ipynb\"  \n",
    "check_path_info(specified_path)\n"
   ]
  },
  {
   "cell_type": "markdown",
   "metadata": {},
   "source": [
    "### 4)Write a Python program to count the number of lines in a text file."
   ]
  },
  {
   "cell_type": "code",
   "execution_count": 16,
   "metadata": {},
   "outputs": [
    {
     "name": "stdout",
     "output_type": "stream",
     "text": [
      "Error: The file 'example.txt' was not found.\n"
     ]
    }
   ],
   "source": [
    "def count_lines_in_file(filename):\n",
    "    try:\n",
    "        with open(filename, 'r', encoding='utf-8') as file:\n",
    "            line_count = sum(1 for line in file)\n",
    "        print(f\"Number of lines in '{filename}': {line_count}\")\n",
    "    except FileNotFoundError:\n",
    "        print(f\"Error: The file '{filename}' was not found.\")\n",
    "\n",
    "file_path = \"example.txt\"  \n",
    "count_lines_in_file(file_path)\n"
   ]
  },
  {
   "cell_type": "markdown",
   "metadata": {},
   "source": [
    "### 5)Write a Python program to write a list to a file."
   ]
  },
  {
   "cell_type": "code",
   "execution_count": 7,
   "metadata": {},
   "outputs": [
    {
     "name": "stdout",
     "output_type": "stream",
     "text": [
      "List successfully written to 'output.txt'\n"
     ]
    }
   ],
   "source": [
    "def write_list_to_file(filename, data_list):\n",
    "    try:\n",
    "        with open(filename, 'w', encoding='utf-8') as file:\n",
    "            for item in data_list:\n",
    "                file.write(str(item) + '\\n')  \n",
    "        print(f\"List successfully written to '{filename}'\")\n",
    "    except Exception as e:\n",
    "        print(f\"Error: {e}\")\n",
    "\n",
    "my_list = [\"Apple\", \"Banana\", \"Cherry\", \"Date\"]\n",
    "file_path = \"output.txt\"  \n",
    "write_list_to_file(file_path, my_list)\n"
   ]
  },
  {
   "cell_type": "markdown",
   "metadata": {},
   "source": [
    "### 6)Write a Python program to generate 26 text files named A.txt, B.txt, and so on up to Z.txt"
   ]
  },
  {
   "cell_type": "code",
   "execution_count": null,
   "metadata": {},
   "outputs": [
    {
     "name": "stdout",
     "output_type": "stream",
     "text": [
      "Created: A.txt\n",
      "Created: B.txt\n",
      "Created: C.txt\n",
      "Created: D.txt\n",
      "Created: E.txt\n",
      "Created: F.txt\n",
      "Created: G.txt\n",
      "Created: H.txt\n",
      "Created: I.txt\n",
      "Created: J.txt\n",
      "Created: K.txt\n",
      "Created: L.txt\n",
      "Created: M.txt\n",
      "Created: N.txt\n",
      "Created: O.txt\n",
      "Created: P.txt\n",
      "Created: Q.txt\n",
      "Created: R.txt\n",
      "Created: S.txt\n",
      "Created: T.txt\n",
      "Created: U.txt\n",
      "Created: V.txt\n",
      "Created: W.txt\n",
      "Created: X.txt\n",
      "Created: Y.txt\n",
      "Created: Z.txt\n"
     ]
    }
   ],
   "source": [
    "import string\n",
    "\n",
    "def generate_text_files():\n",
    "    for letter in string.ascii_uppercase:  # A-Z\n",
    "        filename = f\"{letter}.txt\"\n",
    "        with open(filename, 'w', encoding='utf-8') as file:\n",
    "            file.write(f\"This is file {filename}\\n\") \n",
    "        print(f\"Created: {filename}\")\n",
    "\n",
    "generate_text_files()\n"
   ]
  },
  {
   "cell_type": "markdown",
   "metadata": {},
   "source": [
    "### 7)Write a Python program to copy the contents of a file to another file"
   ]
  },
  {
   "cell_type": "code",
   "execution_count": 14,
   "metadata": {},
   "outputs": [
    {
     "name": "stdout",
     "output_type": "stream",
     "text": [
      "File 'source.txt' successfully copied to 'destination.txt'\n"
     ]
    }
   ],
   "source": [
    "def copy_file_manual(source, destination):\n",
    "    try:\n",
    "        with open(source, 'r', encoding='utf-8') as src, open(destination, 'w', encoding='utf-8') as dest:\n",
    "            dest.write(src.read())\n",
    "        print(f\"File '{source}' successfully copied to '{destination}'\")\n",
    "    except FileNotFoundError:\n",
    "        print(f\"Error: The file '{source}' does not exist.\")\n",
    "    except Exception as e:\n",
    "        print(f\"Error: {e}\")\n",
    "\n",
    "copy_file_manual(\"source.txt\", \"destination.txt\")\n",
    "\n"
   ]
  },
  {
   "cell_type": "markdown",
   "metadata": {},
   "source": [
    "### 8)Write a Python program to delete file by specified path. Before deleting check for access and whether a given path exists or not."
   ]
  },
  {
   "cell_type": "code",
   "execution_count": 15,
   "metadata": {},
   "outputs": [
    {
     "name": "stdout",
     "output_type": "stream",
     "text": [
      "File 'example.txt' has been deleted successfully.\n"
     ]
    }
   ],
   "source": [
    "import os\n",
    "\n",
    "def delete_file(path):\n",
    "    if os.path.exists(path):  \n",
    "        if os.access(path, os.W_OK):  \n",
    "            try:\n",
    "                os.remove(path)  \n",
    "                print(f\"File '{path}' has been deleted successfully.\")\n",
    "            except Exception as e:\n",
    "                print(f\"Error: Unable to delete '{path}'. Reason: {e}\")\n",
    "        else:\n",
    "            print(f\"Error: No write permission for '{path}'. Cannot delete.\")\n",
    "    else:\n",
    "        print(f\"Error: The file '{path}' does not exist.\")\n",
    "\n",
    "file_path = \"example.txt\" \n",
    "delete_file(file_path)\n",
    "\n"
   ]
  }
 ],
 "metadata": {
  "kernelspec": {
   "display_name": "Python 3",
   "language": "python",
   "name": "python3"
  },
  "language_info": {
   "codemirror_mode": {
    "name": "ipython",
    "version": 3
   },
   "file_extension": ".py",
   "mimetype": "text/x-python",
   "name": "python",
   "nbconvert_exporter": "python",
   "pygments_lexer": "ipython3",
   "version": "3.11.5"
  }
 },
 "nbformat": 4,
 "nbformat_minor": 2
}
