{
 "cells": [
  {
   "cell_type": "markdown",
   "metadata": {},
   "source": [
    "### 1)Write a Python program that matches a string that has an 'a' followed by zero or more 'b''s."
   ]
  },
  {
   "cell_type": "code",
   "execution_count": 1,
   "metadata": {},
   "outputs": [
    {
     "name": "stdout",
     "output_type": "stream",
     "text": [
      "True\n",
      "True\n",
      "True\n",
      "False\n"
     ]
    }
   ],
   "source": [
    "import re\n",
    "\n",
    "def match_a_b(string):\n",
    "    return bool(re.fullmatch(r\"ab*\", string))\n",
    "\n",
    "print(match_a_b(\"a\"))      \n",
    "print(match_a_b(\"ab\"))  \n",
    "print(match_a_b(\"abb\"))   \n",
    "print(match_a_b(\"ac\"))     \n"
   ]
  },
  {
   "cell_type": "markdown",
   "metadata": {},
   "source": [
    "### 2)Write a Python program that matches a string that has an 'a' followed by two to three 'b'"
   ]
  },
  {
   "cell_type": "code",
   "execution_count": 2,
   "metadata": {},
   "outputs": [
    {
     "name": "stdout",
     "output_type": "stream",
     "text": [
      "True\n",
      "True\n",
      "False\n"
     ]
    }
   ],
   "source": [
    "def match_a_bbb(string):\n",
    "    return bool(re.fullmatch(r\"ab{2,3}\", string))\n",
    "\n",
    "print(match_a_bbb(\"abb\"))   \n",
    "print(match_a_bbb(\"abbb\"))  \n",
    "print(match_a_bbb(\"abbbb\")) \n"
   ]
  },
  {
   "cell_type": "markdown",
   "metadata": {},
   "source": [
    "### 3)Write a Python program to find sequences of lowercase letters joined with a underscore."
   ]
  },
  {
   "cell_type": "code",
   "execution_count": 3,
   "metadata": {},
   "outputs": [
    {
     "name": "stdout",
     "output_type": "stream",
     "text": [
      "True\n",
      "False\n"
     ]
    }
   ],
   "source": [
    "def find_snake_case(string):\n",
    "    return bool(re.fullmatch(r\"[a-z]+(_[a-z]+)*\", string))\n",
    "\n",
    "print(find_snake_case(\"hello_world\"))  # True\n",
    "print(find_snake_case(\"helloWorld\"))   # False\n"
   ]
  },
  {
   "cell_type": "markdown",
   "metadata": {},
   "source": [
    "### 4)Write a Python program to find the sequences of one upper case letter followed by lower case letters."
   ]
  },
  {
   "cell_type": "code",
   "execution_count": 4,
   "metadata": {},
   "outputs": [
    {
     "name": "stdout",
     "output_type": "stream",
     "text": [
      "['Hello', 'World', 'Test']\n"
     ]
    }
   ],
   "source": [
    "def find_upper_lower(string):\n",
    "    return re.findall(r\"[A-Z][a-z]+\", string)\n",
    "\n",
    "print(find_upper_lower(\"Hello World Test\"))  \n"
   ]
  },
  {
   "cell_type": "markdown",
   "metadata": {},
   "source": [
    "### 5)Write a Python program that matches a string that has an 'a' followed by anything, ending in 'b'."
   ]
  },
  {
   "cell_type": "code",
   "execution_count": 5,
   "metadata": {},
   "outputs": [
    {
     "name": "stdout",
     "output_type": "stream",
     "text": [
      "True\n",
      "True\n",
      "False\n"
     ]
    }
   ],
   "source": [
    "def match_a_any_b(string):\n",
    "    return bool(re.fullmatch(r\"a.*b\", string))\n",
    "\n",
    "print(match_a_any_b(\"axb\"))   \n",
    "print(match_a_any_b(\"ab\"))    \n",
    "print(match_a_any_b(\"abc\"))   \n"
   ]
  },
  {
   "cell_type": "markdown",
   "metadata": {},
   "source": [
    "### 6)Write a Python program to replace all occurrences of space, comma, or dot with a colon."
   ]
  },
  {
   "cell_type": "code",
   "execution_count": 6,
   "metadata": {},
   "outputs": [
    {
     "name": "stdout",
     "output_type": "stream",
     "text": [
      "Hello::world::How:are:you?\n"
     ]
    }
   ],
   "source": [
    "def replace_symbols(string):\n",
    "    return re.sub(r\"[ ,.]\", \":\", string)\n",
    "\n",
    "print(replace_symbols(\"Hello, world. How are you?\"))  # \"Hello:world:How:are:you?\"\n"
   ]
  },
  {
   "cell_type": "markdown",
   "metadata": {},
   "source": [
    "### 7)Write a python program to convert snake case string to camel case string."
   ]
  },
  {
   "cell_type": "code",
   "execution_count": 7,
   "metadata": {},
   "outputs": [
    {
     "name": "stdout",
     "output_type": "stream",
     "text": [
      "HelloWorldTest\n"
     ]
    }
   ],
   "source": [
    "def snake_to_camel(string):\n",
    "    return \"\".join(word.capitalize() for word in string.split(\"_\"))\n",
    "\n",
    "print(snake_to_camel(\"hello_world_test\")) \n"
   ]
  },
  {
   "cell_type": "markdown",
   "metadata": {},
   "source": [
    "### 8)Write a Python program to split a string at uppercase letters."
   ]
  },
  {
   "cell_type": "code",
   "execution_count": 8,
   "metadata": {},
   "outputs": [
    {
     "name": "stdout",
     "output_type": "stream",
     "text": [
      "['', 'Split', 'This', 'String']\n"
     ]
    }
   ],
   "source": [
    "def split_at_upper(string):\n",
    "    return re.split(r\"(?=[A-Z])\", string)\n",
    "\n",
    "print(split_at_upper(\"SplitThisString\"))  # ['Split', 'This', 'String']\n"
   ]
  },
  {
   "cell_type": "markdown",
   "metadata": {},
   "source": [
    "### 9)Write a Python program to insert spaces between words starting with capital letters."
   ]
  },
  {
   "cell_type": "code",
   "execution_count": 9,
   "metadata": {},
   "outputs": [
    {
     "name": "stdout",
     "output_type": "stream",
     "text": [
      "Insert Spaces Here\n"
     ]
    }
   ],
   "source": [
    "def insert_spaces(string):\n",
    "    return re.sub(r\"([a-z])([A-Z])\", r\"\\1 \\2\", string)\n",
    "\n",
    "print(insert_spaces(\"InsertSpacesHere\"))  # \"Insert Spaces Here\"\n"
   ]
  },
  {
   "cell_type": "markdown",
   "metadata": {},
   "source": [
    "### 10)Write a Python program to convert a given camel case string to snake case."
   ]
  },
  {
   "cell_type": "code",
   "execution_count": 10,
   "metadata": {},
   "outputs": [
    {
     "name": "stdout",
     "output_type": "stream",
     "text": [
      "camel_case_string\n"
     ]
    }
   ],
   "source": [
    "def camel_to_snake(string):\n",
    "    return re.sub(r\"([a-z])([A-Z])\", r\"\\1_\\2\", string).lower()\n",
    "\n",
    "print(camel_to_snake(\"CamelCaseString\"))  \n"
   ]
  }
 ],
 "metadata": {
  "kernelspec": {
   "display_name": "Python 3",
   "language": "python",
   "name": "python3"
  },
  "language_info": {
   "codemirror_mode": {
    "name": "ipython",
    "version": 3
   },
   "file_extension": ".py",
   "mimetype": "text/x-python",
   "name": "python",
   "nbconvert_exporter": "python",
   "pygments_lexer": "ipython3",
   "version": "3.11.5"
  }
 },
 "nbformat": 4,
 "nbformat_minor": 2
}
