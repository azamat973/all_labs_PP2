{
 "cells": [
  {
   "cell_type": "markdown",
   "metadata": {},
   "source": [
    "### Python Conditions and If statements\n",
    "Python supports the usual logical conditions from mathematics:\n",
    "\n",
    "Equals: a == b\n",
    "Not Equals: a != b\n",
    "Less than: a < b\n",
    "Less than or equal to: a <= b\n",
    "Greater than: a > b\n",
    "Greater than or equal to: a >= b\n",
    "These conditions can be used in several ways, most commonly in \"if statements\" and loops.\n",
    "\n",
    "An \"if statement\" is written by using the if keyword."
   ]
  },
  {
   "cell_type": "code",
   "execution_count": 1,
   "metadata": {},
   "outputs": [
    {
     "name": "stdout",
     "output_type": "stream",
     "text": [
      "a and b are equal\n"
     ]
    }
   ],
   "source": [
    "# example 1\n",
    "a = 33\n",
    "b = 33\n",
    "if b > a:\n",
    "  print(\"b is greater than a\")\n",
    "elif a == b:\n",
    "  print(\"a and b are equal\")"
   ]
  },
  {
   "cell_type": "code",
   "execution_count": 2,
   "metadata": {},
   "outputs": [
    {
     "name": "stdout",
     "output_type": "stream",
     "text": [
      "a is greater than b\n"
     ]
    }
   ],
   "source": [
    "#example 2\n",
    "a = 200\n",
    "b = 33\n",
    "if b > a:\n",
    "  print(\"b is greater than a\")\n",
    "elif a == b:\n",
    "  print(\"a and b are equal\")\n",
    "else:\n",
    "  print(\"a is greater than b\")"
   ]
  },
  {
   "cell_type": "code",
   "execution_count": 3,
   "metadata": {},
   "outputs": [
    {
     "name": "stdout",
     "output_type": "stream",
     "text": [
      "=\n"
     ]
    }
   ],
   "source": [
    "#example 3\n",
    "a = 330\n",
    "b = 330\n",
    "print(\"A\") if a > b else print(\"=\") if a == b else print(\"B\")"
   ]
  },
  {
   "cell_type": "code",
   "execution_count": 4,
   "metadata": {},
   "outputs": [
    {
     "name": "stdout",
     "output_type": "stream",
     "text": [
      "At least one of the conditions is True\n"
     ]
    }
   ],
   "source": [
    "#example 4\n",
    "#Test if a is greater than b, OR if a is greater than c:\n",
    "\n",
    "a = 200\n",
    "b = 33\n",
    "c = 500\n",
    "if a > b or a > c:\n",
    "  print(\"At least one of the conditions is True\")"
   ]
  },
  {
   "cell_type": "code",
   "execution_count": 5,
   "metadata": {},
   "outputs": [
    {
     "name": "stdout",
     "output_type": "stream",
     "text": [
      "a is NOT greater than b\n"
     ]
    }
   ],
   "source": [
    "#example 5\n",
    "#Test if a is NOT greater than b:\n",
    "\n",
    "a = 33\n",
    "b = 200\n",
    "if not a > b:\n",
    "  print(\"a is NOT greater than b\")"
   ]
  }
 ],
 "metadata": {
  "kernelspec": {
   "display_name": "Python 3",
   "language": "python",
   "name": "python3"
  },
  "language_info": {
   "codemirror_mode": {
    "name": "ipython",
    "version": 3
   },
   "file_extension": ".py",
   "mimetype": "text/x-python",
   "name": "python",
   "nbconvert_exporter": "python",
   "pygments_lexer": "ipython3",
   "version": "3.11.5"
  }
 },
 "nbformat": 4,
 "nbformat_minor": 2
}
