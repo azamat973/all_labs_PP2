{
 "cells": [
  {
   "cell_type": "markdown",
   "metadata": {},
   "source": [
    "### task 1"
   ]
  },
  {
   "cell_type": "code",
   "execution_count": null,
   "metadata": {},
   "outputs": [],
   "source": [
    "class StringHandler:\n",
    "    def __init__(self):\n",
    "        self.s = \"\"\n",
    "\n",
    "    def getString(self):\n",
    "        self.s = input(\"Enter a string: \")\n",
    "\n",
    "    def printString(self):\n",
    "        print(self.s.upper())\n",
    "\n",
    "# Example usage\n",
    "obj = StringHandler()\n",
    "obj.getString()\n",
    "obj.printString()\n"
   ]
  },
  {
   "cell_type": "markdown",
   "metadata": {},
   "source": [
    "### TAsk 2\n",
    "Define a class named Shape and its subclass Square. The Square class has an init function which takes a length as argument. Both classes have a area function which can print the area of the shape where Shape's area is 0 by default."
   ]
  },
  {
   "cell_type": "code",
   "execution_count": 1,
   "metadata": {},
   "outputs": [
    {
     "name": "stdout",
     "output_type": "stream",
     "text": [
      "The area of the shape is: 0\n",
      "The area of the square is: 16\n"
     ]
    }
   ],
   "source": [
    "class Shape:\n",
    "    def __init__(self):\n",
    "        # The default area for Shape is 0\n",
    "        self.area_value = 0\n",
    "    \n",
    "    def area(self):\n",
    "        print(f\"The area of the shape is: {self.area_value}\")\n",
    "\n",
    "class Square(Shape):\n",
    "    def __init__(self, length):\n",
    "        super().__init__()  # Call the constructor of the parent class\n",
    "        self.length = length\n",
    "        self.area_value = length ** 2  # Calculate the area of the square\n",
    "\n",
    "    def area(self):\n",
    "        print(f\"The area of the square is: {self.area_value}\")\n",
    "\n",
    "# Example usage\n",
    "shape = Shape()\n",
    "shape.area()  \n",
    "\n",
    "square = Square(4)\n",
    "square.area()  \n"
   ]
  },
  {
   "cell_type": "markdown",
   "metadata": {},
   "source": [
    "### Task 3\n",
    " Define a class named Rectangle which inherits from Shape class from task 2. Class instance can be constructed by a length and width. The Rectangle class has a method which can compute the area"
   ]
  },
  {
   "cell_type": "code",
   "execution_count": 2,
   "metadata": {},
   "outputs": [
    {
     "name": "stdout",
     "output_type": "stream",
     "text": [
      "The area of the shape is: 0\n",
      "The area of the rectangle is: 15\n"
     ]
    }
   ],
   "source": [
    "class Shape:\n",
    "    def __init__(self):\n",
    "        # The default area for Shape is 0\n",
    "        self.area_value = 0\n",
    "    \n",
    "    def area(self):\n",
    "        print(f\"The area of the shape is: {self.area_value}\")\n",
    "\n",
    "class Rectangle(Shape):\n",
    "    def __init__(self, length, width):\n",
    "        super().__init__()  # Call the constructor of the parent class\n",
    "        self.length = length\n",
    "        self.width = width\n",
    "        self.area_value = length * width  \n",
    "\n",
    "    def area(self):\n",
    "        print(f\"The area of the rectangle is: {self.area_value}\")\n",
    "\n",
    "\n",
    "shape = Shape()\n",
    "shape.area()  \n",
    "\n",
    "rectangle = Rectangle(5, 3)\n",
    "rectangle.area()  \n"
   ]
  },
  {
   "cell_type": "markdown",
   "metadata": {},
   "source": [
    "### TAsk 4 Write the definition of a Point class. Objects from this class should have a\n",
    "\n",
    "* a method show to display the coordinates of the point\n",
    "* a method move to change these coordinates\n",
    "* a method dist that computes the distance between 2 points"
   ]
  },
  {
   "cell_type": "code",
   "execution_count": 4,
   "metadata": {},
   "outputs": [
    {
     "name": "stdout",
     "output_type": "stream",
     "text": [
      "Point coordinates: (1, 2)\n",
      "Point moved to: (4, 6)\n",
      "Point coordinates: (4, 6)\n",
      "Point coordinates: (7, 8)\n",
      "Distance between point1 and point2: 3.605551275463989\n"
     ]
    }
   ],
   "source": [
    "import math\n",
    "\n",
    "class Point:\n",
    "    def __init__(self, x, y):\n",
    "        \"\"\"Initialize the point with x and y coordinates.\"\"\"\n",
    "        self.x = x\n",
    "        self.y = y\n",
    "\n",
    "    def show(self):\n",
    "        \"\"\"Display the coordinates of the point.\"\"\"\n",
    "        print(f\"Point coordinates: ({self.x}, {self.y})\")\n",
    "\n",
    "    def move(self, dx, dy):\n",
    "        \"\"\"Move the point by dx in the x direction and dy in the y direction.\"\"\"\n",
    "        self.x += dx\n",
    "        self.y += dy\n",
    "        print(f\"Point moved to: ({self.x}, {self.y})\")\n",
    "\n",
    "    def dist(self, other_point):\n",
    "        \"\"\"Compute the distance between the current point and another point.\"\"\"\n",
    "        distance = math.sqrt((self.x - other_point.x) ** 2 + (self.y - other_point.y) ** 2)\n",
    "        return distance\n",
    "# Example usage\n",
    "point1 = Point(1, 2)\n",
    "point1.show()  \n",
    "\n",
    "point1.move(3, 4)  \n",
    "point1.show()  \n",
    "\n",
    "point2 = Point(7, 8)\n",
    "point2.show()  \n",
    "\n",
    "\n",
    "\n",
    "distance = point1.dist(point2)\n",
    "print(f\"Distance between point1 and point2: {distance}\")  \n"
   ]
  },
  {
   "cell_type": "markdown",
   "metadata": {},
   "source": [
    "###  Task 5 Create a bank account class that has attributes owner, balance and two methods deposit and withdraw. Withdrawals may not exceed the available balance. Instantiate your class, make several deposits and withdrawals, and test to make sure the account can't be overdrawn.\n",
    "\n",
    "class Account:\n",
    "    pass"
   ]
  },
  {
   "cell_type": "code",
   "execution_count": 6,
   "metadata": {},
   "outputs": [
    {
     "name": "stdout",
     "output_type": "stream",
     "text": [
      "Account owner: Aza\n",
      "Account balance: 1000\n",
      "Deposit of 500 successful. New balance: 1500\n",
      "Withdrawal of 200 successful. New balance: 1300\n",
      "Insufficient funds! Available balance: 1300\n",
      "Withdrawal of 800 successful. New balance: 500\n",
      "Account owner: Aza\n",
      "Account balance: 500\n"
     ]
    }
   ],
   "source": [
    "class Account:\n",
    "    def __init__(self, owner, balance=0):\n",
    "        \"\"\"Initialize the account with an owner and an initial balance.\"\"\"\n",
    "        self.owner = owner\n",
    "        self.balance = balance\n",
    "\n",
    "    def deposit(self, amount):\n",
    "        \"\"\"Deposit money into the account.\"\"\"\n",
    "        if amount > 0:\n",
    "            self.balance += amount\n",
    "            print(f\"Deposit of {amount} successful. New balance: {self.balance}\")\n",
    "        else:\n",
    "            print(\"Deposit amount must be positive.\")\n",
    "\n",
    "    def withdraw(self, amount):\n",
    "        \"\"\"Withdraw money from the account, ensuring balance is sufficient.\"\"\"\n",
    "        if amount > self.balance:\n",
    "            print(f\"Insufficient funds! Available balance: {self.balance}\")\n",
    "        elif amount > 0:\n",
    "            self.balance -= amount\n",
    "            print(f\"Withdrawal of {amount} successful. New balance: {self.balance}\")\n",
    "        else:\n",
    "            print(\"Withdrawal amount must be positive.\")\n",
    "\n",
    "    def __str__(self):\n",
    "        \"\"\"Return a string representation of the account.\"\"\"\n",
    "        return f\"Account owner: {self.owner}\\nAccount balance: {self.balance}\"\n",
    "\n",
    "\n",
    "acc = Account(\"Aza\", 1000)  \n",
    "print(acc)  \n",
    "\n",
    "# Perform deposits and withdrawals\n",
    "acc.deposit(500)   \n",
    "acc.withdraw(200)  \n",
    "acc.withdraw(1500) \n",
    "acc.withdraw(800)  \n",
    "\n",
    "print(acc)  \n"
   ]
  },
  {
   "cell_type": "markdown",
   "metadata": {},
   "source": [
    "### Last TAsk Write a program which can filter prime numbers in a list by using filter function. Note: Use lambda to define anonymous functions."
   ]
  },
  {
   "cell_type": "code",
   "execution_count": 5,
   "metadata": {},
   "outputs": [
    {
     "name": "stdout",
     "output_type": "stream",
     "text": [
      "Prime numbers: [2, 3, 5, 7, 11, 13, 17, 19, 23]\n"
     ]
    }
   ],
   "source": [
    "# Function to check if a number is prime\n",
    "def is_prime(n):\n",
    "    if n < 2:\n",
    "        return False\n",
    "    for i in range(2, int(n ** 0.5) + 1):\n",
    "        if n % i == 0:\n",
    "            return False\n",
    "    return True\n",
    "\n",
    "numbers = [2, 3, 4, 5, 6, 7, 8, 9, 10, 11, 13, 15, 17, 19, 23, 24, 25]\n",
    "\n",
    "# Using filter and lambda to filter prime numbers\n",
    "prime_numbers = list(filter(lambda x: is_prime(x), numbers))\n",
    "\n",
    "print(\"Prime numbers:\", prime_numbers)\n"
   ]
  }
 ],
 "metadata": {
  "kernelspec": {
   "display_name": "Python 3",
   "language": "python",
   "name": "python3"
  },
  "language_info": {
   "codemirror_mode": {
    "name": "ipython",
    "version": 3
   },
   "file_extension": ".py",
   "mimetype": "text/x-python",
   "name": "python",
   "nbconvert_exporter": "python",
   "pygments_lexer": "ipython3",
   "version": "3.11.5"
  }
 },
 "nbformat": 4,
 "nbformat_minor": 2
}
