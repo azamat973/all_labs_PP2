{
 "cells": [
  {
   "cell_type": "markdown",
   "metadata": {},
   "source": [
    "### the task 1"
   ]
  },
  {
   "cell_type": "code",
   "execution_count": 9,
   "metadata": {},
   "outputs": [
    {
     "name": "stdout",
     "output_type": "stream",
     "text": [
      "[True, True, True, True, True, True, True, False, False, False, True, True, True, False, True]\n"
     ]
    }
   ],
   "source": [
    "from movies_data import movies\n",
    "\n",
    "def is_good_movie(movie):\n",
    "    return movie[\"imdb\"] > 5.5\n",
    "good_movies = list(map(is_good_movie, movies))\n",
    "print(good_movies)  \n"
   ]
  },
  {
   "cell_type": "markdown",
   "metadata": {},
   "source": [
    "### the task 2"
   ]
  },
  {
   "cell_type": "code",
   "execution_count": 8,
   "metadata": {},
   "outputs": [
    {
     "name": "stdout",
     "output_type": "stream",
     "text": [
      "['Usual Suspects', 'Hitman', 'Dark Knight', 'The Help', 'The Choice', 'Colonia', 'Love', 'Joking muck', 'What is the name', 'Detective', 'We Two']\n"
     ]
    }
   ],
   "source": [
    "from movies_data import movies\n",
    "\n",
    "def is_good_movie(movie):\n",
    "    return movie[\"imdb\"] > 5.5\n",
    "\n",
    "good_movies = [movie[\"name\"] for movie in movies if is_good_movie(movie)]\n",
    "print(good_movies) \n",
    "\n",
    "    "
   ]
  },
  {
   "cell_type": "markdown",
   "metadata": {},
   "source": [
    "### the task 3"
   ]
  },
  {
   "cell_type": "code",
   "execution_count": 13,
   "metadata": {},
   "outputs": [
    {
     "name": "stdout",
     "output_type": "stream",
     "text": [
      "[{'name': 'Joking muck', 'imdb': 7.2, 'category': 'Comedy'}]\n"
     ]
    }
   ],
   "source": [
    "from movies_data import movies\n",
    "\n",
    "def movies_by_category(movies_list, category):\n",
    "    #Возвращает список фильмов определённой категории\n",
    "    return [movie for movie in movies_list if movie[\"category\"].lower() == category.lower()]\n",
    "\n",
    "print(movies_by_category(movies, \"Comedy\"))\n"
   ]
  },
  {
   "cell_type": "markdown",
   "metadata": {},
   "source": [
    "### the task 4"
   ]
  },
  {
   "cell_type": "code",
   "execution_count": 15,
   "metadata": {},
   "outputs": [
    {
     "name": "stdout",
     "output_type": "stream",
     "text": [
      "6.486666666666667\n"
     ]
    }
   ],
   "source": [
    "from movies_data import movies\n",
    "\n",
    "def average_imdb_score(movies_list):\n",
    "    \"\"\"Возвращает средний IMDb рейтинг списка фильмов.\"\"\"\n",
    "    if not movies_list:\n",
    "        return 0  # Возвращаем 0, если список пустой, чтобы избежать ошибки деления на 0\n",
    "\n",
    "    total_score = sum(movie[\"imdb\"] for movie in movies_list)\n",
    "    return total_score / len(movies_list)\n",
    "\n",
    "print(average_imdb_score(movies))  \n"
   ]
  },
  {
   "cell_type": "markdown",
   "metadata": {},
   "source": [
    "### the task 5"
   ]
  },
  {
   "cell_type": "code",
   "execution_count": 17,
   "metadata": {},
   "outputs": [
    {
     "name": "stdout",
     "output_type": "stream",
     "text": [
      "Average IMDb rating for category Romance: 6.44\n"
     ]
    }
   ],
   "source": [
    "from movies_data import movies  \n",
    "\n",
    "def average_imdb_score_by_category(movies_list, category):\n",
    "    \"\"\"Возвращает средний IMDb рейтинг фильмов в заданной категории.\"\"\"\n",
    "    filtered_movies = [movie for movie in movies_list if movie[\"category\"].lower() == category.lower()]\n",
    "    \n",
    "    if not filtered_movies:\n",
    "        return 0 \n",
    "\n",
    "    total_score = sum(movie[\"imdb\"] for movie in filtered_movies)\n",
    "    return total_score / len(filtered_movies)\n",
    "\n",
    "category = \"Romance\"\n",
    "print(f\"Average IMDb rating for category {category}: {average_imdb_score_by_category(movies, category)}\")\n"
   ]
  }
 ],
 "metadata": {
  "kernelspec": {
   "display_name": "Python 3",
   "language": "python",
   "name": "python3"
  },
  "language_info": {
   "codemirror_mode": {
    "name": "ipython",
    "version": 3
   },
   "file_extension": ".py",
   "mimetype": "text/x-python",
   "name": "python",
   "nbconvert_exporter": "python",
   "pygments_lexer": "ipython3",
   "version": "3.11.5"
  }
 },
 "nbformat": 4,
 "nbformat_minor": 2
}
